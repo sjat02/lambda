{
 "cells": [
  {
   "cell_type": "markdown",
   "metadata": {},
   "source": [
    "please refer to this video fol classes https://www.youtube.com/watch?v=a7baAGCBA9U\n",
    "example of railway reservation form\n",
    "\n",
    "refer to this playlist for detail version \n",
    "https://www.youtube.com/playlist?list=PLu0W_9lII9agwh1XjRt242xIpHhPT2llg"
   ]
  },
  {
   "cell_type": "code",
   "execution_count": 21,
   "metadata": {},
   "outputs": [],
   "source": [
    "class Person:\n",
    "     name=\"Suraj\"\n",
    "     occupation=\"Solar Engineer\"\n",
    "     networth=10"
   ]
  },
  {
   "cell_type": "code",
   "execution_count": 22,
   "metadata": {},
   "outputs": [
    {
     "name": "stdout",
     "output_type": "stream",
     "text": [
      "Suraj\n",
      "Solar Engineer\n"
     ]
    }
   ],
   "source": [
    "a = Person()\n",
    "print(a.name)\n",
    "print(a.occupation)"
   ]
  },
  {
   "cell_type": "code",
   "execution_count": 23,
   "metadata": {},
   "outputs": [
    {
     "data": {
      "text/plain": [
       "'upsi'"
      ]
     },
     "execution_count": 23,
     "metadata": {},
     "output_type": "execute_result"
    }
   ],
   "source": [
    "# if i want to change the name to upsi\n",
    "\n",
    "b=Person()\n",
    "b.name=\"upsi\"\n",
    "b.name\n"
   ]
  },
  {
   "cell_type": "code",
   "execution_count": 27,
   "metadata": {},
   "outputs": [
    {
     "name": "stdout",
     "output_type": "stream",
     "text": [
      "Suraj is a Solar Engineer\n"
     ]
    }
   ],
   "source": [
    "#we can also add method here info method\n",
    "\n",
    "class Person1:\n",
    "     name=\"Suraj\"\n",
    "     occupation=\"Solar Engineer\"\n",
    "     networth=10\n",
    "     #let us make a method\n",
    "     def info(self):\n",
    "          print(f\"{self.name} is a {self.occupation}\")\n",
    "          \n",
    "\n",
    "\n",
    "a = Person1()\n",
    "\n",
    "a.info()\n",
    "\n"
   ]
  },
  {
   "cell_type": "code",
   "execution_count": 29,
   "metadata": {},
   "outputs": [
    {
     "name": "stdout",
     "output_type": "stream",
     "text": [
      "Vivek is a Farmer\n"
     ]
    }
   ],
   "source": [
    "#If i change the name to vivek here and occupation to farmer\n",
    "\n",
    "#we can also add method here info method\n",
    "\n",
    "class Person1:\n",
    "     name=\"Suraj\"\n",
    "     occupation=\"Solar Engineer\"\n",
    "     networth=10\n",
    "     #let us make a method\n",
    "     def info(self):\n",
    "          print(f\"{self.name} is a {self.occupation}\")\n",
    "          \n",
    "\n",
    "a = Person1()\n",
    "\n",
    "a.name = \"Vivek\"\n",
    "a.occupation=\"Farmer\"\n",
    "\n",
    "\n",
    "a.info()\n",
    "\n"
   ]
  },
  {
   "cell_type": "code",
   "execution_count": 30,
   "metadata": {},
   "outputs": [
    {
     "name": "stdout",
     "output_type": "stream",
     "text": [
      "Vivek is a Farmer\n",
      "Raja is a Lohar\n"
     ]
    }
   ],
   "source": [
    "#If i change the name to vivek here and occupation to farmer\n",
    "\n",
    "#we can also add method here info method\n",
    "\n",
    "class Person1:\n",
    "     name=\"Suraj\"\n",
    "     occupation=\"Solar Engineer\"\n",
    "     networth=10\n",
    "     #let us make a method\n",
    "     def info(self):\n",
    "          print(f\"{self.name} is a {self.occupation}\")\n",
    "          \n",
    "\n",
    "a = Person1()\n",
    "\n",
    "a.name = \"Vivek\"\n",
    "a.occupation=\"Farmer\"\n",
    "\n",
    "\n",
    "a.info()\n",
    "\n",
    "#let us create other object \n",
    "\n",
    "b=Person1()\n",
    "\n",
    "b.name=\"Raja\"\n",
    "b.occupation=\"Lohar\"\n",
    "b.info()\n"
   ]
  },
  {
   "cell_type": "code",
   "execution_count": 33,
   "metadata": {},
   "outputs": [
    {
     "name": "stdout",
     "output_type": "stream",
     "text": [
      "Vivek is a Farmer\n",
      "Raja is a Lohar\n",
      "Zubin is a Solar Engineer\n"
     ]
    }
   ],
   "source": [
    "#self matlb wo object jiske liye call kiya jaa raha h\n",
    "\n",
    "# Here I can make as many persons I want to make as i want\n",
    "\n",
    "class Person1:\n",
    "     name=\"Suraj\"\n",
    "     occupation=\"Solar Engineer\"\n",
    "     networth=10\n",
    "     #let us make a method\n",
    "     def info(self):\n",
    "          print(f\"{self.name} is a {self.occupation}\")\n",
    "          \n",
    "\n",
    "a = Person1()\n",
    "b = Person1()\n",
    "c = Person1()\n",
    "\n",
    "a.name = \"Vivek\"\n",
    "a.occupation=\"Farmer\"\n",
    "a.info()\n",
    "\n",
    "#let us create other object \n",
    "b.name=\"Raja\"\n",
    "b.occupation=\"Lohar\"\n",
    "b.info()\n",
    "\n",
    "#c object \n",
    "\n",
    "c= Person1()\n",
    "c.name = \"Zubin\"\n",
    "\n",
    "#agr mene c ki info change nhi ki to mujhe degfault value mil jaegi c ki\n",
    "#c.occupation = \"Mochi\"\n",
    "c.info()"
   ]
  },
  {
   "cell_type": "code",
   "execution_count": 43,
   "metadata": {},
   "outputs": [
    {
     "name": "stdout",
     "output_type": "stream",
     "text": [
      "Divya is a Maid and has NW of 1200\n"
     ]
    }
   ],
   "source": [
    "# Constructors are used to make some objects \n",
    "\n",
    "#matlb aaap kabhi bhi agr class k ander method banao to self argument kisi haal me chahiye hi chaihye \n",
    "\n",
    "## Constructors in python\n",
    "\n",
    "class Person3():\n",
    "    name=\"Chotu\"\n",
    "    occ=\"Dalla\"\n",
    "    net=1200\n",
    "\n",
    "\n",
    "    def info(self):\n",
    "        print(f\"{self.name} is a {self.occ} and has NW of {self.net}\")\n",
    "\n",
    "\n",
    "\n",
    "# Yaha humne object banaya  \n",
    "d=Person3()\n",
    "\n",
    "Person3.name\n",
    "d.name = \"Divya\"\n",
    "d.occ = \"Maid\"\n",
    "\n",
    "\n",
    "d.info() "
   ]
  },
  {
   "cell_type": "code",
   "execution_count": 53,
   "metadata": {},
   "outputs": [
    {
     "name": "stdout",
     "output_type": "stream",
     "text": [
      "Hey Whatsapp\n",
      "Hey Whatsapp\n",
      "Hey Whatsapp\n",
      "Suraj is a Engineer\n",
      "Zubin is a Mochi\n",
      "1 is a 2\n"
     ]
    }
   ],
   "source": [
    "# ab me chahta hu ki bhai class ko bata saku ki ae Person3 class me tujhe dena chahta hu Divya aur Maid dena chahta hu as arguments\n",
    "# aur me chahta hu ki usse tum name aur occ me store kr lo\n",
    "#to hume ab ye likhne ki jrurat nhi h hum constructor yaha use kr skte h \n",
    "\n",
    "class Person4:\n",
    "\n",
    "    def __init__(self,n,o):\n",
    "        print(\"Hey Whatsapp\")\n",
    "        self.name=n \n",
    "        self.occ=o\n",
    "    def info(self):\n",
    "        print(f\"{self.name} is a {self.occ}\")\n",
    "\n",
    "\n",
    "\n",
    "a=Person4(\"Suraj\",\"Engineer\")\n",
    "b=Person4(\"Zubin\", \"Mochi\")\n",
    "c=Person4(1,2)\n",
    "\n",
    "\n",
    "#yaha hune kuch nhi kiya bass constructor banaya aur usem arguments daal diye \n",
    "#ab age info chaiye \n",
    "a.info()\n",
    "b.info()\n",
    "c.info()\n"
   ]
  },
  {
   "cell_type": "code",
   "execution_count": null,
   "metadata": {},
   "outputs": [],
   "source": []
  }
 ],
 "metadata": {
  "kernelspec": {
   "display_name": "venv",
   "language": "python",
   "name": "python3"
  },
  "language_info": {
   "codemirror_mode": {
    "name": "ipython",
    "version": 3
   },
   "file_extension": ".py",
   "mimetype": "text/x-python",
   "name": "python",
   "nbconvert_exporter": "python",
   "pygments_lexer": "ipython3",
   "version": "3.12.8"
  }
 },
 "nbformat": 4,
 "nbformat_minor": 2
}
