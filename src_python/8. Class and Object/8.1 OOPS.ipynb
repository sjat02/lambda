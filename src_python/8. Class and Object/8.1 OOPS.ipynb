{
 "cells": [
  {
   "cell_type": "markdown",
   "metadata": {},
   "source": [
    "please refer to this video fol classes https://www.youtube.com/watch?v=a7baAGCBA9U\n",
    "example of railway reservation form\n",
    "\n",
    "refer to this playlist for detail version \n",
    "https://www.youtube.com/playlist?list=PLu0W_9lII9agwh1XjRt242xIpHhPT2llg"
   ]
  },
  {
   "cell_type": "code",
   "execution_count": 21,
   "metadata": {},
   "outputs": [],
   "source": [
    "class Person:\n",
    "     name=\"Suraj\"\n",
    "     occupation=\"Solar Engineer\"\n",
    "     networth=10"
   ]
  },
  {
   "cell_type": "code",
   "execution_count": 22,
   "metadata": {},
   "outputs": [
    {
     "name": "stdout",
     "output_type": "stream",
     "text": [
      "Suraj\n",
      "Solar Engineer\n"
     ]
    }
   ],
   "source": [
    "a = Person()\n",
    "print(a.name)\n",
    "print(a.occupation)"
   ]
  },
  {
   "cell_type": "code",
   "execution_count": 23,
   "metadata": {},
   "outputs": [
    {
     "data": {
      "text/plain": [
       "'upsi'"
      ]
     },
     "execution_count": 23,
     "metadata": {},
     "output_type": "execute_result"
    }
   ],
   "source": [
    "# if i want to change the name to upsi\n",
    "\n",
    "b=Person()\n",
    "b.name=\"upsi\"\n",
    "b.name\n"
   ]
  },
  {
   "cell_type": "code",
   "execution_count": 27,
   "metadata": {},
   "outputs": [
    {
     "name": "stdout",
     "output_type": "stream",
     "text": [
      "Suraj is a Solar Engineer\n"
     ]
    }
   ],
   "source": [
    "#we can also add method here info method\n",
    "\n",
    "class Person1:\n",
    "     name=\"Suraj\"\n",
    "     occupation=\"Solar Engineer\"\n",
    "     networth=10\n",
    "     #let us make a method\n",
    "     def info(self):\n",
    "          print(f\"{self.name} is a {self.occupation}\")\n",
    "          \n",
    "\n",
    "\n",
    "a = Person1()\n",
    "\n",
    "a.info()\n",
    "\n"
   ]
  },
  {
   "cell_type": "code",
   "execution_count": 29,
   "metadata": {},
   "outputs": [
    {
     "name": "stdout",
     "output_type": "stream",
     "text": [
      "Vivek is a Farmer\n"
     ]
    }
   ],
   "source": [
    "#If i change the name to vivek here and occupation to farmer\n",
    "\n",
    "#we can also add method here info method\n",
    "\n",
    "class Person1:\n",
    "     name=\"Suraj\"\n",
    "     occupation=\"Solar Engineer\"\n",
    "     networth=10\n",
    "     #let us make a method\n",
    "     def info(self):\n",
    "          print(f\"{self.name} is a {self.occupation}\")\n",
    "          \n",
    "\n",
    "a = Person1()\n",
    "\n",
    "a.name = \"Vivek\"\n",
    "a.occupation=\"Farmer\"\n",
    "\n",
    "\n",
    "a.info()\n",
    "\n"
   ]
  },
  {
   "cell_type": "code",
   "execution_count": 30,
   "metadata": {},
   "outputs": [
    {
     "name": "stdout",
     "output_type": "stream",
     "text": [
      "Vivek is a Farmer\n",
      "Raja is a Lohar\n"
     ]
    }
   ],
   "source": [
    "#If i change the name to vivek here and occupation to farmer\n",
    "\n",
    "#we can also add method here info method\n",
    "\n",
    "class Person1:\n",
    "     name=\"Suraj\"\n",
    "     occupation=\"Solar Engineer\"\n",
    "     networth=10\n",
    "     #let us make a method\n",
    "     def info(self):\n",
    "          print(f\"{self.name} is a {self.occupation}\")\n",
    "          \n",
    "\n",
    "a = Person1()\n",
    "\n",
    "a.name = \"Vivek\"\n",
    "a.occupation=\"Farmer\"\n",
    "\n",
    "\n",
    "a.info()\n",
    "\n",
    "#let us create other object \n",
    "\n",
    "b=Person1()\n",
    "\n",
    "b.name=\"Raja\"\n",
    "b.occupation=\"Lohar\"\n",
    "b.info()\n"
   ]
  },
  {
   "cell_type": "code",
   "execution_count": 33,
   "metadata": {},
   "outputs": [
    {
     "name": "stdout",
     "output_type": "stream",
     "text": [
      "Vivek is a Farmer\n",
      "Raja is a Lohar\n",
      "Zubin is a Solar Engineer\n"
     ]
    }
   ],
   "source": [
    "#self matlb wo object jiske liye call kiya jaa raha h\n",
    "\n",
    "# Here I can make as many persons I want to make as i want\n",
    "\n",
    "class Person1:\n",
    "     name=\"Suraj\"\n",
    "     occupation=\"Solar Engineer\"\n",
    "     networth=10\n",
    "     #let us make a method\n",
    "     def info(self):\n",
    "          print(f\"{self.name} is a {self.occupation}\")\n",
    "          \n",
    "\n",
    "a = Person1()\n",
    "b = Person1()\n",
    "c = Person1()\n",
    "\n",
    "a.name = \"Vivek\"\n",
    "a.occupation=\"Farmer\"\n",
    "a.info()\n",
    "\n",
    "#let us create other object \n",
    "b.name=\"Raja\"\n",
    "b.occupation=\"Lohar\"\n",
    "b.info()\n",
    "\n",
    "#c object \n",
    "\n",
    "c= Person1()\n",
    "c.name = \"Zubin\"\n",
    "\n",
    "#agr mene c ki info change nhi ki to mujhe degfault value mil jaegi c ki\n",
    "#c.occupation = \"Mochi\"\n",
    "c.info()"
   ]
  },
  {
   "cell_type": "code",
   "execution_count": 43,
   "metadata": {},
   "outputs": [
    {
     "name": "stdout",
     "output_type": "stream",
     "text": [
      "Divya is a Maid and has NW of 1200\n"
     ]
    }
   ],
   "source": [
    "# Constructors are used to make some objects \n",
    "\n",
    "#matlb aaap kabhi bhi agr class k ander method banao to self argument kisi haal me chahiye hi chaihye \n",
    "\n",
    "## Constructors in python\n",
    "\n",
    "class Person3():\n",
    "    name=\"Chotu\"\n",
    "    occ=\"Dalla\"\n",
    "    net=1200\n",
    "\n",
    "\n",
    "    def info(self):\n",
    "        print(f\"{self.name} is a {self.occ} and has NW of {self.net}\")\n",
    "\n",
    "\n",
    "\n",
    "# Yaha humne object banaya  \n",
    "d=Person3()\n",
    "\n",
    "Person3.name\n",
    "d.name = \"Divya\"\n",
    "d.occ = \"Maid\"\n",
    "\n",
    "\n",
    "d.info() "
   ]
  },
  {
   "cell_type": "code",
   "execution_count": 53,
   "metadata": {},
   "outputs": [
    {
     "name": "stdout",
     "output_type": "stream",
     "text": [
      "Hey Whatsapp\n",
      "Hey Whatsapp\n",
      "Hey Whatsapp\n",
      "Suraj is a Engineer\n",
      "Zubin is a Mochi\n",
      "1 is a 2\n"
     ]
    }
   ],
   "source": [
    "# ab me chahta hu ki bhai class ko bata saku ki ae Person3 class me tujhe dena chahta hu Divya aur Maid dena chahta hu as arguments\n",
    "# aur me chahta hu ki usse tum name aur occ me store kr lo\n",
    "#to hume ab ye likhne ki jrurat nhi h hum constructor yaha use kr skte h \n",
    "\n",
    "class Person4:\n",
    "\n",
    "    def __init__(self,n,o):\n",
    "        print(\"Hey Whatsapp\")\n",
    "        self.name=n \n",
    "        self.occ=o\n",
    "    def info(self):\n",
    "        print(f\"{self.name} is a {self.occ}\")\n",
    "\n",
    "\n",
    "\n",
    "a=Person4(\"Suraj\",\"Engineer\")\n",
    "b=Person4(\"Zubin\", \"Mochi\")\n",
    "c=Person4(1,2)\n",
    "\n",
    "\n",
    "#yaha hune kuch nhi kiya bass constructor banaya aur usem arguments daal diye \n",
    "#ab age info chaiye \n",
    "a.info()\n",
    "b.info()\n",
    "c.info()\n"
   ]
  },
  {
   "cell_type": "code",
   "execution_count": 1,
   "metadata": {},
   "outputs": [],
   "source": [
    "## Inherirance in python\n",
    "\n",
    "class Car:\n",
    "    def __init__(self,windows,doors,enginetype):\n",
    "        self.windows=windows\n",
    "        self.doors=doors\n",
    "        self.enginetype=enginetype\n",
    "\n",
    "    def drive(self):\n",
    "        print(f\"The person will drive the {self.enginetype}car\")\n",
    "\n",
    "# Yaha humne ek class banayi Car jisme windows, doors, enginetype h\n",
    "        "
   ]
  },
  {
   "cell_type": "code",
   "execution_count": 2,
   "metadata": {},
   "outputs": [
    {
     "name": "stdout",
     "output_type": "stream",
     "text": [
      "The person will drive the Petrolcar\n"
     ]
    }
   ],
   "source": [
    "car1=Car(4,4,\"Petrol\")\n",
    "car1.drive()"
   ]
  },
  {
   "cell_type": "code",
   "execution_count": 7,
   "metadata": {},
   "outputs": [],
   "source": [
    "#single inheritance\n",
    "class Tesla(Car):\n",
    "    def __init__(self, windows, doors, enginetyp,isautopilot):\n",
    "        super().__init__(windows,doors,enginetyp)\n",
    "        self.isautopilot=isautopilot\n",
    "\n",
    "    def selfdriving(self):\n",
    "        print(f\"Tesla {self.isautopilot} car\")"
   ]
  },
  {
   "cell_type": "code",
   "execution_count": 8,
   "metadata": {},
   "outputs": [],
   "source": [
    "tesla1=Tesla(4,4,\"Electric\",True)"
   ]
  },
  {
   "cell_type": "code",
   "execution_count": 9,
   "metadata": {},
   "outputs": [
    {
     "name": "stdout",
     "output_type": "stream",
     "text": [
      "Tesla True car\n",
      "The person will drive the Electriccar\n"
     ]
    }
   ],
   "source": [
    "tesla1.selfdriving()\n",
    "tesla1.drive()"
   ]
  },
  {
   "cell_type": "code",
   "execution_count": 11,
   "metadata": {},
   "outputs": [
    {
     "name": "stdout",
     "output_type": "stream",
     "text": [
      "Sheru barks\n"
     ]
    },
    {
     "data": {
      "text/plain": [
       "'Suraj'"
      ]
     },
     "execution_count": 11,
     "metadata": {},
     "output_type": "execute_result"
    }
   ],
   "source": [
    "#multiple inheritance\n",
    "#when a class inherits from more than one base class\n",
    "\n",
    "#Base class 1\n",
    "class Animal:\n",
    "    def __init__(self,name):\n",
    "        self.name=name\n",
    "\n",
    "    def speak(self):\n",
    "        print(\"subclass must implement this methoid\")\n",
    "\n",
    "\n",
    "#base class 2\n",
    "\n",
    "class Pet:\n",
    "    def __init__(self,owner):\n",
    "        self.owner=owner\n",
    "\n",
    "\n",
    "#derive class\n",
    "\n",
    "class Dog(Animal,Pet):\n",
    "    def __init__(self, name,owner):\n",
    "        Animal.__init__(self,name)\n",
    "        Pet.__init__(self,owner)\n",
    "\n",
    "    def speak(self):\n",
    "        return f\"{self.name} barks\"\n",
    "    \n",
    "#create an object of Dog class\n",
    "\n",
    "dog= Dog('Sheru','Suraj')\n",
    "print(dog.speak())\n",
    "\n",
    "dog.owner"
   ]
  },
  {
   "cell_type": "code",
   "execution_count": 14,
   "metadata": {},
   "outputs": [
    {
     "data": {
      "text/plain": [
       "'Meow!'"
      ]
     },
     "execution_count": 14,
     "metadata": {},
     "output_type": "execute_result"
    }
   ],
   "source": [
    "##polymorphism in python\n",
    "#method overridding\n",
    "\n",
    "##base class\n",
    "class Animal:\n",
    "    def speal(self):\n",
    "        return \"Sound of animal\"\n",
    "\n",
    "#derivded class\n",
    "\n",
    "class Dog(Animal):\n",
    "    def speak(self):\n",
    "        return \"Woof!\"\n",
    "    \n",
    "##derived class\n",
    "\n",
    "class Cat(Animal):\n",
    "    def speak(self):\n",
    "        return \"Meow!\"\n",
    "    \n",
    "\n",
    "dog=Dog()\n",
    "\n",
    "dog.speak()\n",
    "\n",
    "cat=Cat()\n",
    "\n",
    "cat.speak()\n",
    "\n"
   ]
  },
  {
   "cell_type": "code",
   "execution_count": 15,
   "metadata": {},
   "outputs": [
    {
     "name": "stdout",
     "output_type": "stream",
     "text": [
      "Woof!\n"
     ]
    }
   ],
   "source": [
    "#function that tdemonstartes polymorphism\n",
    "\n",
    "def animal_speak(animal):\n",
    "    print(animal.speak())\n",
    "\n",
    "\n",
    "animal_speak(dog)"
   ]
  },
  {
   "cell_type": "code",
   "execution_count": 16,
   "metadata": {},
   "outputs": [
    {
     "name": "stdout",
     "output_type": "stream",
     "text": [
      "200\n",
      "314.0\n"
     ]
    }
   ],
   "source": [
    "### Polymorphism with a function and methods\n",
    "## base class\n",
    "\n",
    "class Shape:\n",
    "    def area(self):\n",
    "        return \"The area of figure\"\n",
    "    \n",
    "\n",
    "#derived class1\n",
    "\n",
    "class Rectagle(Shape):\n",
    "    def __init__(self,width,height):\n",
    "        self.width=width\n",
    "        self.height=height\n",
    "\n",
    "    def area(self):\n",
    "        return self.width*self.height\n",
    "    \n",
    "#derived class2\n",
    "class Circle(Shape):\n",
    "    def __init__(self,radius):\n",
    "        self.radius=radius\n",
    "    def area(self):\n",
    "        return 3.14*self.radius*self.radius\n",
    "\n",
    "\n",
    "## function that demonstrates polymorphism with a function\n",
    "\n",
    "def find_area(shape):\n",
    "    print(shape.area())\n",
    "\n",
    "\n",
    "ractangle=Rectagle(10,20)\n",
    "circle=Circle(10)\n",
    "\n",
    "find_area(ractangle)\n",
    "find_area(circle)"
   ]
  },
  {
   "cell_type": "code",
   "execution_count": 18,
   "metadata": {},
   "outputs": [
    {
     "name": "stdout",
     "output_type": "stream",
     "text": [
      "Car engine started\n"
     ]
    },
    {
     "data": {
      "text/plain": [
       "'Motorcycle engine started'"
      ]
     },
     "execution_count": 18,
     "metadata": {},
     "output_type": "execute_result"
    }
   ],
   "source": [
    "##interfaces in python or abstract base classes\n",
    "\n",
    "from abc import ABC,abstractmethod\n",
    "\n",
    "class Vehicle(ABC):\n",
    "    @abstractmethod\n",
    "    def start_engine(self):\n",
    "        pass\n",
    "\n",
    "#derivded class\n",
    "\n",
    "class Car(Vehicle):\n",
    "    def start_engine(self):\n",
    "        return \"Car engine started\"\n",
    "    \n",
    "##derived class2\n",
    "class Motorcycle(Vehicle):\n",
    "    def start_engine(self):\n",
    "        return \"Motorcycle engine started\"\n",
    "    \n",
    "##crate object of car and motorcycle\n",
    "\n",
    "car=Car()\n",
    "\n",
    "Motorcycl=Motorcycle()\n",
    "\n",
    "print(car.start_engine())\n",
    "Motorcycl.start_engine()\n",
    "\n",
    "\n"
   ]
  },
  {
   "cell_type": "code",
   "execution_count": 22,
   "metadata": {},
   "outputs": [
    {
     "data": {
      "text/plain": [
       "'Suraj'"
      ]
     },
     "execution_count": 22,
     "metadata": {},
     "output_type": "execute_result"
    }
   ],
   "source": [
    "##encapsulation in python\n",
    "\n",
    "class Person:\n",
    "    def __init__(self,name,age):\n",
    "        self.name=name   #public variable\n",
    "        self.age=age   #public variable\n",
    "        \n",
    "\n",
    "def get_name(person):\n",
    "    return person.name\n",
    "\n",
    "Person1=Person(\"Suraj\",24)  #object of person class\n",
    "\n",
    "get_name(Person1)"
   ]
  },
  {
   "cell_type": "code",
   "execution_count": 23,
   "metadata": {},
   "outputs": [
    {
     "data": {
      "text/plain": [
       "['__class__',\n",
       " '__delattr__',\n",
       " '__dict__',\n",
       " '__dir__',\n",
       " '__doc__',\n",
       " '__eq__',\n",
       " '__format__',\n",
       " '__ge__',\n",
       " '__getattribute__',\n",
       " '__getstate__',\n",
       " '__gt__',\n",
       " '__hash__',\n",
       " '__init__',\n",
       " '__init_subclass__',\n",
       " '__le__',\n",
       " '__lt__',\n",
       " '__module__',\n",
       " '__ne__',\n",
       " '__new__',\n",
       " '__reduce__',\n",
       " '__reduce_ex__',\n",
       " '__repr__',\n",
       " '__setattr__',\n",
       " '__sizeof__',\n",
       " '__str__',\n",
       " '__subclasshook__',\n",
       " '__weakref__',\n",
       " 'age',\n",
       " 'name']"
      ]
     },
     "execution_count": 23,
     "metadata": {},
     "output_type": "execute_result"
    }
   ],
   "source": [
    "dir(Person1)"
   ]
  },
  {
   "cell_type": "code",
   "execution_count": 34,
   "metadata": {},
   "outputs": [],
   "source": [
    "#now for private variable\n",
    "class Person:\n",
    "    def __init__(self,name,age,gender):\n",
    "        self.__name=name   #private variable\n",
    "        self.__age=age   #private variable\n",
    "        self.gender=gender\n",
    "        \n",
    "\n"
   ]
  },
  {
   "cell_type": "code",
   "execution_count": 35,
   "metadata": {},
   "outputs": [],
   "source": [
    "person=Person('suraj','age=',24)"
   ]
  },
  {
   "cell_type": "code",
   "execution_count": 36,
   "metadata": {},
   "outputs": [
    {
     "data": {
      "text/plain": [
       "['_Person__age',\n",
       " '_Person__name',\n",
       " '__class__',\n",
       " '__delattr__',\n",
       " '__dict__',\n",
       " '__dir__',\n",
       " '__doc__',\n",
       " '__eq__',\n",
       " '__format__',\n",
       " '__ge__',\n",
       " '__getattribute__',\n",
       " '__getstate__',\n",
       " '__gt__',\n",
       " '__hash__',\n",
       " '__init__',\n",
       " '__init_subclass__',\n",
       " '__le__',\n",
       " '__lt__',\n",
       " '__module__',\n",
       " '__ne__',\n",
       " '__new__',\n",
       " '__reduce__',\n",
       " '__reduce_ex__',\n",
       " '__repr__',\n",
       " '__setattr__',\n",
       " '__sizeof__',\n",
       " '__str__',\n",
       " '__subclasshook__',\n",
       " '__weakref__',\n",
       " 'gender']"
      ]
     },
     "execution_count": 36,
     "metadata": {},
     "output_type": "execute_result"
    }
   ],
   "source": [
    "dir(person)"
   ]
  },
  {
   "cell_type": "code",
   "execution_count": 38,
   "metadata": {},
   "outputs": [
    {
     "ename": "AttributeError",
     "evalue": "'Person' object has no attribute '__name'",
     "output_type": "error",
     "traceback": [
      "\u001b[1;31m---------------------------------------------------------------------------\u001b[0m",
      "\u001b[1;31mAttributeError\u001b[0m                            Traceback (most recent call last)",
      "Cell \u001b[1;32mIn[38], line 6\u001b[0m\n\u001b[0;32m      2\u001b[0m     \u001b[38;5;28;01mreturn\u001b[39;00m person\u001b[38;5;241m.\u001b[39m__name\n\u001b[0;32m      4\u001b[0m person\u001b[38;5;241m=\u001b[39mPerson(\u001b[38;5;124m'\u001b[39m\u001b[38;5;124msuraj\u001b[39m\u001b[38;5;124m'\u001b[39m,\u001b[38;5;124m'\u001b[39m\u001b[38;5;124mage=\u001b[39m\u001b[38;5;124m'\u001b[39m,\u001b[38;5;241m24\u001b[39m)\n\u001b[1;32m----> 6\u001b[0m \u001b[43mget_name\u001b[49m\u001b[43m(\u001b[49m\u001b[43mperson\u001b[49m\u001b[43m)\u001b[49m\n\u001b[0;32m      9\u001b[0m \u001b[38;5;66;03m#agar me private variable ko access krna chahta hu to me aise direcrtly access nhi kr skta\u001b[39;00m\n",
      "Cell \u001b[1;32mIn[38], line 2\u001b[0m, in \u001b[0;36mget_name\u001b[1;34m(person)\u001b[0m\n\u001b[0;32m      1\u001b[0m \u001b[38;5;28;01mdef\u001b[39;00m \u001b[38;5;21mget_name\u001b[39m(person):\n\u001b[1;32m----> 2\u001b[0m     \u001b[38;5;28;01mreturn\u001b[39;00m \u001b[43mperson\u001b[49m\u001b[38;5;241;43m.\u001b[39;49m\u001b[43m__name\u001b[49m\n",
      "\u001b[1;31mAttributeError\u001b[0m: 'Person' object has no attribute '__name'"
     ]
    }
   ],
   "source": [
    "def get_name(person):\n",
    "    return person.__name\n",
    "\n",
    "person=Person('suraj','age=',24)\n",
    "\n",
    "get_name(person)\n",
    "\n",
    "\n",
    "#agar me private variable ko access krna chahta hu to me aise direcrtly access nhi kr skta"
   ]
  },
  {
   "cell_type": "code",
   "execution_count": 39,
   "metadata": {},
   "outputs": [
    {
     "data": {
      "text/plain": [
       "'Suraj'"
      ]
     },
     "execution_count": 39,
     "metadata": {},
     "output_type": "execute_result"
    }
   ],
   "source": [
    "#protected variable \n",
    "\n",
    "#now for private variable\n",
    "class Person:\n",
    "    def __init__(self,name,age,gender):\n",
    "        self._name=name   #private variable\n",
    "        self._age=age   #private variable\n",
    "        self.gender=gender\n",
    "        \n",
    "\n",
    "class Employee(Person):\n",
    "    def __init__(self,name,age,gender):\n",
    "        super().__init__(name,age,gender)\n",
    "\n",
    "emp1=Employee('Suraj',24,'male')\n",
    "\n",
    "emp1._name\n",
    "\n"
   ]
  },
  {
   "cell_type": "code",
   "execution_count": 48,
   "metadata": {},
   "outputs": [
    {
     "name": "stdout",
     "output_type": "stream",
     "text": [
      "Age can not be negative\n",
      "3432\n"
     ]
    }
   ],
   "source": [
    "#encapsulation in python with getter and setter\n",
    "\n",
    "class Person:\n",
    "    def __init__(self,name,age):\n",
    "        self.__name=name #private variable\n",
    "        self.__age=age\n",
    "\n",
    "    def get_name(self):\n",
    "        return self.__name\n",
    "    \n",
    "    def set_name(self,name):\n",
    "        self.__name=name\n",
    "\n",
    "    def get_age(self):\n",
    "        return self.__age\n",
    "\n",
    "    def set_age(self,age):\n",
    "        if age>0:\n",
    "            self.__age=age\n",
    "        else:\n",
    "            print(\"Age can not be negative\")\n",
    "        self.__age=age\n",
    "\n",
    "    \n",
    "\n",
    "person=Person('Suraj',24)\n",
    "\n",
    "##accessing private variable using getter and setter\n",
    "\n",
    "person.get_name()\n",
    "person.get_age()\n",
    "\n",
    "person.set_name('Vivek')\n",
    "person.set_age(-3)\n",
    "person.set_age(30)\n",
    "person.set_age(3432)\n",
    "\n",
    "print(person.get_age())"
   ]
  },
  {
   "cell_type": "code",
   "execution_count": null,
   "metadata": {},
   "outputs": [],
   "source": []
  }
 ],
 "metadata": {
  "kernelspec": {
   "display_name": "venv",
   "language": "python",
   "name": "python3"
  },
  "language_info": {
   "codemirror_mode": {
    "name": "ipython",
    "version": 3
   },
   "file_extension": ".py",
   "mimetype": "text/x-python",
   "name": "python",
   "nbconvert_exporter": "python",
   "pygments_lexer": "ipython3",
   "version": "3.12.8"
  }
 },
 "nbformat": 4,
 "nbformat_minor": 2
}
